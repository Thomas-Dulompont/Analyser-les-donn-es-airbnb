{
 "cells": [
  {
   "cell_type": "code",
   "execution_count": 2,
   "metadata": {},
   "outputs": [],
   "source": [
    "import pandas as pd\n",
    "pd.options.display.max_rows = 150\n",
    "pd.options.display.max_columns = 150"
   ]
  },
  {
   "cell_type": "code",
   "execution_count": 3,
   "metadata": {},
   "outputs": [],
   "source": [
    "pays = \"Netherlands\"\n",
    "ville = \"Amsterdam\"\n",
    "\n",
    "listing = pd.read_csv(f'./data/{pays}/{ville}/listings-clean.csv')\n",
    "reviews = pd.read_csv(f'./data/{pays}/{ville}/reviews.csv')\n",
    "listings_brut = pd.read_csv(f'./data/{pays}/{ville}/listings-brut.csv')"
   ]
  },
  {
   "cell_type": "code",
   "execution_count": 4,
   "metadata": {},
   "outputs": [
    {
     "data": {
      "text/plain": [
       "Index(['id', 'listing_url', 'scrape_id', 'last_scraped', 'source', 'name',\n",
       "       'description', 'neighborhood_overview', 'picture_url', 'host_id',\n",
       "       'host_url', 'host_name', 'host_since', 'host_location', 'host_about',\n",
       "       'host_response_time', 'host_response_rate', 'host_acceptance_rate',\n",
       "       'host_is_superhost', 'host_thumbnail_url', 'host_picture_url',\n",
       "       'host_neighbourhood', 'host_listings_count',\n",
       "       'host_total_listings_count', 'host_verifications',\n",
       "       'host_has_profile_pic', 'host_identity_verified', 'neighbourhood',\n",
       "       'neighbourhood_cleansed', 'neighbourhood_group_cleansed', 'latitude',\n",
       "       'longitude', 'property_type', 'room_type', 'accommodates', 'bathrooms',\n",
       "       'bathrooms_text', 'bedrooms', 'beds', 'amenities', 'price',\n",
       "       'minimum_nights', 'maximum_nights', 'minimum_minimum_nights',\n",
       "       'maximum_minimum_nights', 'minimum_maximum_nights',\n",
       "       'maximum_maximum_nights', 'minimum_nights_avg_ntm',\n",
       "       'maximum_nights_avg_ntm', 'calendar_updated', 'has_availability',\n",
       "       'availability_30', 'availability_60', 'availability_90',\n",
       "       'availability_365', 'calendar_last_scraped', 'number_of_reviews',\n",
       "       'number_of_reviews_ltm', 'number_of_reviews_l30d', 'first_review',\n",
       "       'last_review', 'review_scores_rating', 'review_scores_accuracy',\n",
       "       'review_scores_cleanliness', 'review_scores_checkin',\n",
       "       'review_scores_communication', 'review_scores_location',\n",
       "       'review_scores_value', 'license', 'instant_bookable',\n",
       "       'calculated_host_listings_count',\n",
       "       'calculated_host_listings_count_entire_homes',\n",
       "       'calculated_host_listings_count_private_rooms',\n",
       "       'calculated_host_listings_count_shared_rooms', 'reviews_per_month'],\n",
       "      dtype='object')"
      ]
     },
     "execution_count": 4,
     "metadata": {},
     "output_type": "execute_result"
    }
   ],
   "source": [
    "listing.columns"
   ]
  },
  {
   "cell_type": "code",
   "execution_count": 5,
   "metadata": {},
   "outputs": [
    {
     "data": {
      "text/plain": [
       "(6893, 75)"
      ]
     },
     "execution_count": 5,
     "metadata": {},
     "output_type": "execute_result"
    }
   ],
   "source": [
    "listing.shape"
   ]
  },
  {
   "cell_type": "code",
   "execution_count": 11,
   "metadata": {},
   "outputs": [
    {
     "ename": "TypeError",
     "evalue": "'Index' object is not callable",
     "output_type": "error",
     "traceback": [
      "\u001b[0;31m---------------------------------------------------------------------------\u001b[0m",
      "\u001b[0;31mTypeError\u001b[0m                                 Traceback (most recent call last)",
      "Cell \u001b[0;32mIn [11], line 11\u001b[0m\n\u001b[1;32m      9\u001b[0m nb_host \u001b[39m=\u001b[39m quartiers[\u001b[39m'\u001b[39m\u001b[39mid\u001b[39m\u001b[39m'\u001b[39m]\u001b[39m.\u001b[39mcount()\n\u001b[1;32m     10\u001b[0m question1 \u001b[39m=\u001b[39m pd\u001b[39m.\u001b[39mDataFrame({\u001b[39m'\u001b[39m\u001b[39mnb_host\u001b[39m\u001b[39m'\u001b[39m: nb_host, \u001b[39m'\u001b[39m\u001b[39mnb_review\u001b[39m\u001b[39m'\u001b[39m: nb_review})\n\u001b[0;32m---> 11\u001b[0m question1[\u001b[39m\"\u001b[39;49m\u001b[39mnb_host\u001b[39;49m\u001b[39m\"\u001b[39;49m]\u001b[39m.\u001b[39;49mindex()\n",
      "\u001b[0;31mTypeError\u001b[0m: 'Index' object is not callable"
     ]
    }
   ],
   "source": [
    "# QUESTION N°1\n",
    "\n",
    "quartiers = listing.groupby(by=\"neighbourhood_cleansed\")\n",
    "\n",
    "# Nombre de review\n",
    "nb_review = quartiers[\"number_of_reviews\"].sum()\n",
    "\n",
    "# Nombre de host\n",
    "nb_host = quartiers['id'].count()\n",
    "question1 = pd.DataFrame({'nb_host': nb_host, 'nb_review': nb_review})\n",
    "question1"
   ]
  },
  {
   "cell_type": "code",
   "execution_count": 12,
   "metadata": {},
   "outputs": [
    {
     "data": {
      "text/html": [
       "<div>\n",
       "<style scoped>\n",
       "    .dataframe tbody tr th:only-of-type {\n",
       "        vertical-align: middle;\n",
       "    }\n",
       "\n",
       "    .dataframe tbody tr th {\n",
       "        vertical-align: top;\n",
       "    }\n",
       "\n",
       "    .dataframe thead th {\n",
       "        text-align: right;\n",
       "    }\n",
       "</style>\n",
       "<table border=\"1\" class=\"dataframe\">\n",
       "  <thead>\n",
       "    <tr style=\"text-align: right;\">\n",
       "      <th></th>\n",
       "      <th>mean_response</th>\n",
       "      <th>mean_accept</th>\n",
       "    </tr>\n",
       "  </thead>\n",
       "  <tbody>\n",
       "    <tr>\n",
       "      <th>% par host</th>\n",
       "      <td>94.967341</td>\n",
       "      <td>80.170121</td>\n",
       "    </tr>\n",
       "  </tbody>\n",
       "</table>\n",
       "</div>"
      ],
      "text/plain": [
       "            mean_response  mean_accept\n",
       "% par host      94.967341    80.170121"
      ]
     },
     "execution_count": 12,
     "metadata": {},
     "output_type": "execute_result"
    }
   ],
   "source": [
    "# QUESTION N°2\n",
    "\n",
    "# Taux de reponse moyen\n",
    "moyenne_response = listing[\"host_response_rate\"].str.rstrip('%').astype(float).mean()\n",
    "moyenne_response\n",
    "\n",
    "# Taux acceptation moyen\n",
    "moyenne_accept = listing[\"host_acceptance_rate\"].str.rstrip('%').astype(float).mean()\n",
    "moyenne_accept\n",
    "\n",
    "question2 = pd.DataFrame({'mean_response': [moyenne_response], 'mean_accept': [moyenne_accept]}, index=[\"% par host\"])\n",
    "question2"
   ]
  },
  {
   "cell_type": "code",
   "execution_count": null,
   "metadata": {},
   "outputs": [],
   "source": [
    "# QUESTION N°3\n",
    "\n",
    "# Pourcentage type vérification (phone, work_email, email)\n",
    "phone_verification = listing[\"host_verifications\"].apply(lambda x: 1 if \"phone\" in x else 0).sum() / listing[\"host_verifications\"].count() * 100\n",
    "work_email_verification = listing[\"host_verifications\"].apply(lambda x: 1 if \"work_email\" in x else 0).sum() / listing[\"host_verifications\"].count() * 100\n",
    "email_verification = listing[\"host_verifications\"].apply(lambda x: 1 if \"email\" in x and \"work_email\" != x else 0).sum() / listing[\"host_verifications\"].count() * 100\n",
    "\n",
    "question3 = pd.DataFrame({'phone_verification': [phone_verification], 'work_email_verification': [email_verification], 'email_verification' : [email_verification]}, index=[\"% par host\"])\n",
    "question3"
   ]
  },
  {
   "cell_type": "code",
   "execution_count": null,
   "metadata": {},
   "outputs": [],
   "source": [
    "# QUESTION N°4\n",
    "\n",
    "# Moyenne d'amenities & écart type\n",
    "amenities = listing['amenities'].apply(lambda x: str(x)[1:-1].replace('\"', '').replace(\"\\\\u2013\", \"-\")).str.split(pat=\",\")\n",
    "listing['amenities'] = amenities\n",
    "\n",
    "listing[\"nb_amenities\"] = listing[\"amenities\"].apply(lambda x: len(x))\n",
    "\n",
    "g_room_type = listing[[\"room_type\",\"nb_amenities\"]].groupby(['room_type']).agg(['mean', 'std'])\n",
    "g_room_type"
   ]
  },
  {
   "cell_type": "code",
   "execution_count": null,
   "metadata": {},
   "outputs": [],
   "source": [
    "# QUESTION N°5\n",
    "listing[\"price\"] = listing[\"price\"].apply(lambda x: str(x).replace(\",\", \"\").replace(\"$\", \"\")).astype(float)\n",
    "\n",
    "prix = listing[[\"room_type\",\"price\"]].groupby([\"room_type\"]).describe()\n",
    "prix = prix['price'].drop(['count', 'std', 'mean'], axis=1)\n",
    "prix"
   ]
  },
  {
   "cell_type": "code",
   "execution_count": null,
   "metadata": {},
   "outputs": [],
   "source": [
    "# QUESTION N°6\n",
    "\n",
    "listing[\"bathrooms_text\"].value_counts()"
   ]
  },
  {
   "cell_type": "code",
   "execution_count": null,
   "metadata": {},
   "outputs": [],
   "source": [
    "# On transform nos cases en string\n",
    "bathrooms = listing[\"bathrooms_text\"]\n",
    "nb_bathrooms = listing[\"bathrooms\"]\n",
    "\n",
    "# Ajoute \"1\" aux 3 cases qui n'ont pas de chiffres\n",
    "bathrooms = bathrooms.apply(lambda x: \"1 {}\".format(x) if x == \"Shared half-bath\" or x == \"Half-bath\" or x == \"Private half-bath\" else x).apply(lambda x: str(x)+\"s\" if str(x)[len(str(x))-1].lower() != \"s\" else str(x)).replace(\"nans\", 0)\n",
    "\n",
    "# On sépare le chiffre du Type de bathroom\n",
    "bathrooms = bathrooms.str.split(' ', 1, expand=True)\n",
    "\n",
    "# On renome les colonnes\n",
    "bathrooms = bathrooms.rename(columns={0: \"Nombre\", 1: \"Type\"})\n",
    "\n",
    "# On tranform les str en float de la colonne \"Nombre\"\n",
    "bathrooms[\"Nombre\"] = bathrooms[\"Nombre\"].astype(float)\n",
    "\n",
    "def convertiseur(df):\n",
    "    \"\"\"\n",
    "    Fonction qui multiplie les chiffres de la première colonne en fonction de la deuxième colonne\n",
    "    : param df : DataFrame\n",
    "    : return : DataFrame modifié\n",
    "    \"\"\"\n",
    "    result = 0.0\n",
    "    df[1] = str(df[1]).lower()\n",
    "    if df[1] == \"shared baths\" or df[1] == \"bath shareds\" or df[1] == \"half-baths\":\n",
    "        result=df[0]*0.5\n",
    "    elif df[1] == \"private baths\":\n",
    "        result=df[0]*2\n",
    "    elif df[1] == \"half-shareds\" or df[1] == \"shared half-baths\":\n",
    "        result=df[0]*0.25\n",
    "    else :\n",
    "        result = df[0]*1\n",
    "    return result\n",
    "\n",
    "bathrooms[\"Nombre\"] = bathrooms.apply(convertiseur,axis=1)\n",
    "bathrooms = bathrooms.groupby(\"Type\").value_counts().reset_index().rename(columns={0:\"count\"}).drop(\"Type\", axis=1).groupby(\"Nombre\").sum()\n",
    "bathrooms = bathrooms.groupby(\"Nombre\").sum().reset_index()\n",
    "bathrooms"
   ]
  },
  {
   "cell_type": "code",
   "execution_count": null,
   "metadata": {},
   "outputs": [],
   "source": [
    "# QUESTION N°7\n",
    "\n",
    "listing['len_description'] = listing['description'].apply(lambda x: len(str(x)))\n",
    "\n",
    "\n",
    "corr = listing['len_description'].corr(listing['number_of_reviews'])\n",
    "# Correlation : 0.19023440848679404\n",
    "corr"
   ]
  },
  {
   "cell_type": "code",
   "execution_count": null,
   "metadata": {},
   "outputs": [],
   "source": [
    "reviews.info()"
   ]
  },
  {
   "cell_type": "code",
   "execution_count": null,
   "metadata": {},
   "outputs": [],
   "source": [
    "# QUESTION N°8\n",
    "\n",
    "fake_reviews = listings_brut.merge(reviews, left_on='id', right_on='listing_id')\n",
    "fake_reviews = fake_reviews[[\"host_name\",\"host_id\", \"reviewer_name\", \"reviewer_id\"]].loc[fake_reviews[\"host_name\"] == fake_reviews[\"reviewer_name\"]].drop_duplicates()\n",
    "\n",
    "annonces_fake = (len(fake_reviews) / len(reviews)) * 100\n",
    "annonces_fake"
   ]
  },
  {
   "cell_type": "code",
   "execution_count": null,
   "metadata": {},
   "outputs": [],
   "source": [
    "import pickle\n",
    "\n",
    "reponses = {\n",
    "    \"1\" : question1,\n",
    "    \"2\" : question2,\n",
    "    \"3\" : question3,\n",
    "    \"4\" : g_room_type,\n",
    "    \"5\" : prix,\n",
    "    \"6\" : bathrooms,\n",
    "    \"7\" : corr,\n",
    "    \"8\" : annonces_fake\n",
    "}\n",
    "\n",
    "\n",
    "pickle_out = open(\"modelRid.pkl\", \"wb\")\n",
    "pickle.dump(reponses, pickle_out)\n",
    "pickle_out.close()"
   ]
  }
 ],
 "metadata": {
  "kernelspec": {
   "display_name": "Python 3.9.15 ('data-analyse-env')",
   "language": "python",
   "name": "python3"
  },
  "language_info": {
   "codemirror_mode": {
    "name": "ipython",
    "version": 3
   },
   "file_extension": ".py",
   "mimetype": "text/x-python",
   "name": "python",
   "nbconvert_exporter": "python",
   "pygments_lexer": "ipython3",
   "version": "3.9.15"
  },
  "orig_nbformat": 4,
  "vscode": {
   "interpreter": {
    "hash": "e040077903ef6eeaa5ac90c1254cd5abaaf5d30f296b3f264e1a83a3f6bea03d"
   }
  }
 },
 "nbformat": 4,
 "nbformat_minor": 2
}
